{
 "cells": [
  {
   "cell_type": "code",
   "execution_count": 52,
   "metadata": {
    "collapsed": true,
    "pycharm": {
     "is_executing": false
    }
   },
   "outputs": [],
   "source": [
    "import math\n",
    "\n",
    "# creating empty list\n",
    "my_list = []\n",
    "\n",
    "# adding elements to the list\n",
    "my_list.append(5)\n",
    "my_list.append(\"cat\")\n",
    "my_list.append(\"zoo\")\n",
    "my_list.append(\"zoo\")\n",
    "\n",
    "# creating another list and extending my_list with the new list (it could be done in several ways)\n",
    "list_new = [\"dog\", 54.987, True, 3.14, -10, \"zoo\", False, 764, -3/4, \"fox\", -math.pi]\n",
    "my_list.extend(list_new)\n",
    "my_list = my_list + list_new\n",
    "\n",
    "# removing elements from the list\n",
    "my_list.remove(\"zoo\")\n",
    "del my_list[0]\n",
    "\n",
    "# adding 1st element\n",
    "my_list.insert(1, 10)"
   ]
  },
  {
   "cell_type": "code",
   "execution_count": 50,
   "outputs": [],
   "source": [
    "number_of_zoos = my_list.count(\"zoo\")\n",
    "len_list = len(my_list)"
   ],
   "metadata": {
    "collapsed": false,
    "pycharm": {
     "name": "#%%\n",
     "is_executing": false
    }
   }
  },
  {
   "cell_type": "code",
   "execution_count": 48,
   "outputs": [
    {
     "name": "stdout",
     "text": [
      "(1, 2)\n"
     ],
     "output_type": "stream"
    }
   ],
   "source": [
    "# tuples\n",
    "t = ()\n",
    "t1 = (1, 2)\n",
    "t = t + t1\n",
    "\n",
    "number_of_dogs = t.count(\"dog\")\n",
    "length = len(t)\n"
   ],
   "metadata": {
    "collapsed": false,
    "pycharm": {
     "name": "#%%\n",
     "is_executing": false
    }
   }
  },
  {
   "cell_type": "code",
   "execution_count": 38,
   "outputs": [
    {
     "name": "stdout",
     "text": [
      "Hi, Asya\nHi, Lena\nHi, Sveta\nHi, Veta\nHi, Kolya\nHi, Bill\nHi, everyone!\n"
     ],
     "output_type": "stream"
    }
   ],
   "source": [
    "friends = ['Asya', 'Lena', \"Sveta\", 'Veta', \"Kolya\", \"Bill\"]\n",
    "\n",
    "for friend in friends:\n",
    "    print(\"Hi,\", friend)\n",
    "print(\"Hi, everyone!\")"
   ],
   "metadata": {
    "collapsed": false,
    "pycharm": {
     "name": "#%%\n",
     "is_executing": false
    }
   }
  },
  {
   "cell_type": "code",
   "execution_count": 45,
   "outputs": [
    {
     "name": "stdout",
     "text": [
      "[-2, 5, 16]\n"
     ],
     "output_type": "stream"
    }
   ],
   "source": [
    "n = 0\n",
    "list1 = [1, 2, 3]\n",
    "list2 = [-3, 3, 13]\n",
    "sum_list = []\n",
    "\n",
    "for el in list1:\n",
    "    v = el + list2[n]\n",
    "    sum_list.insert(n, v)\n",
    "    n += 1\n",
    "print(sum_list)"
   ],
   "metadata": {
    "collapsed": false,
    "pycharm": {
     "name": "#%%\n",
     "is_executing": false
    }
   }
  },
  {
   "cell_type": "code",
   "execution_count": 60,
   "outputs": [
    {
     "name": "stdout",
     "text": [
      "равнобедренный\n"
     ],
     "output_type": "stream"
    }
   ],
   "source": [
    "# triangles' sides\n",
    "a = input(\"Type the lengths of one side, please.\")\n",
    "b = input(\"Type the lengths of the other side, please.\")\n",
    "c = input(\"Type the lengths of the other side, please.\")\n",
    "sides_list = [a, b, c]\n",
    "if sides_list[0] == sides_list[1] and sides_list[0] == sides_list[2]:\n",
    "    print(\"равносторонний\")\n",
    "elif sides_list[0] == sides_list[1] or sides_list[1] == sides_list[2]:\n",
    "    print(\"равнобедренный\")\n",
    "else:\n",
    "    print(\"разносторонний\")"
   ],
   "metadata": {
    "collapsed": false,
    "pycharm": {
     "name": "#%%\n",
     "is_executing": false
    }
   }
  },
  {
   "cell_type": "code",
   "execution_count": 62,
   "outputs": [
    {
     "name": "stdout",
     "text": [
      "[('fruit', 5), 2, 1]\n"
     ],
     "output_type": "stream"
    },
    {
     "data": {
      "text/plain": "' \\nеще можно развернуть в обычных циклах, но это будет так же как в 4 и 5 \\nпримерах только записано длиннее, т.к. по сути там идет перебор в цикле\\n'"
     },
     "metadata": {},
     "output_type": "execute_result",
     "execution_count": 62
    }
   ],
   "source": [
    "# reversing the list\n",
    "# 1)\n",
    "elements = [1, 2, ('fruit', 5)]\n",
    "elements.reverse()\n",
    "\n",
    "# I don't know whether we need to return the reversed list, so just in case:\n",
    "print(elements)\n",
    "\n",
    "# 2)\n",
    "elements = list(reversed(elements))\n",
    "\n",
    "# 3)\n",
    "elements = elements[::-1]\n",
    "\n",
    "# 4) \n",
    "elements = [i for i in reversed(elements)]\n",
    "\n",
    "# 5)\n",
    "elements = [elements[n] for n in range(len(elements)-1, -1, -1)]\n",
    "\n",
    "\"\"\" \n",
    "еще можно развернуть в обычных циклах, но это будет так же как в 4 и 5 \n",
    "примерах только записано длиннее, т.к. по сути там идет перебор в цикле\n",
    "\"\"\""
   ],
   "metadata": {
    "collapsed": false,
    "pycharm": {
     "name": "#%%\n",
     "is_executing": false
    }
   }
  },
  {
   "cell_type": "code",
   "execution_count": 65,
   "outputs": [
    {
     "name": "stdout",
     "text": [
      "74\n"
     ],
     "output_type": "stream"
    }
   ],
   "source": [
    "interesting_numbers = (3, 2, 5, 7, 14, 26, 32, 31, 37)\n",
    "even_nums = []\n",
    "for number in interesting_numbers:\n",
    "    if number % 2 == 0:\n",
    "        even_nums.append(number)\n",
    "the_sum = sum(i for i in even_nums)\n",
    "print(the_sum)"
   ],
   "metadata": {
    "collapsed": false,
    "pycharm": {
     "name": "#%%\n",
     "is_executing": false
    }
   }
  },
  {
   "cell_type": "code",
   "execution_count": null,
   "outputs": [],
   "source": [
    "\n"
   ],
   "metadata": {
    "collapsed": false,
    "pycharm": {
     "name": "#%%\n"
    }
   }
  }
 ],
 "metadata": {
  "kernelspec": {
   "display_name": "Python 3",
   "language": "python",
   "name": "python3"
  },
  "language_info": {
   "codemirror_mode": {
    "name": "ipython",
    "version": 2
   },
   "file_extension": ".py",
   "mimetype": "text/x-python",
   "name": "python",
   "nbconvert_exporter": "python",
   "pygments_lexer": "ipython2",
   "version": "2.7.6"
  },
  "pycharm": {
   "stem_cell": {
    "cell_type": "raw",
    "source": [],
    "metadata": {
     "collapsed": false
    }
   }
  }
 },
 "nbformat": 4,
 "nbformat_minor": 0
}