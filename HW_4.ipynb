{
 "cells": [
  {
   "cell_type": "code",
   "execution_count": 52,
   "metadata": {
    "collapsed": true,
    "pycharm": {
     "is_executing": false
    }
   },
   "outputs": [],
   "source": [
    "import math\n",
    "\n",
    "# creating empty list\n",
    "my_list = []\n",
    "\n",
    "# adding elements to the list\n",
    "my_list.append(5)\n",
    "my_list.append(\"cat\")\n",
    "my_list.append(\"zoo\")\n",
    "my_list.append(\"zoo\")\n",
    "\n",
    "# creating another list and extending my_list with the new list (it could be done in several ways)\n",
    "list_new = [\"dog\", 54.987, True, 3.14, -10, \"zoo\", False, 764, -3/4, \"fox\", -math.pi]\n",
    "my_list.extend(list_new)\n",
    "my_list = my_list + list_new\n",
    "\n",
    "# removing elements from the list\n",
    "my_list.remove(\"zoo\")\n",
    "del my_list[0]\n",
    "\n",
    "# adding 1st element\n",
    "my_list.insert(1, 10)"
   ]
  },
  {
   "cell_type": "code",
   "execution_count": 50,
   "outputs": [],
   "source": [
    "number_of_zoos = my_list.count(\"zoo\")\n",
    "len_list = len(my_list)"
   ],
   "metadata": {
    "collapsed": false,
    "pycharm": {
     "name": "#%%\n",
     "is_executing": false
    }
   }
  },
  {
   "cell_type": "code",
   "execution_count": 48,
   "outputs": [
    {
     "name": "stdout",
     "text": [
      "(1, 2)\n"
     ],
     "output_type": "stream"
    }
   ],
   "source": [
    "# tuples\n",
    "t = ()\n",
    "t1 = (1, 2)\n",
    "t = t + t1\n",
    "\n",
    "number_of_dogs = t.count(\"dog\")\n",
    "length = len(t)\n",
    "\n",
    "\"\"\"\n",
    "для кортежей так же как и для списков можно индексировать элементы и\n",
    "вызывать их по индексу, но в задании про это не было\n",
    "\"\"\""
   ],
   "metadata": {
    "collapsed": false,
    "pycharm": {
     "name": "#%%\n",
     "is_executing": false
    }
   }
  },
  {
   "cell_type": "code",
   "execution_count": 38,
   "outputs": [
    {
     "name": "stdout",
     "text": [
      "Hi, Asya\nHi, Lena\nHi, Sveta\nHi, Veta\nHi, Kolya\nHi, Bill\nHi, everyone!\n"
     ],
     "output_type": "stream"
    }
   ],
   "source": [
    "friends = ['Asya', 'Lena', \"Sveta\", 'Veta', \"Kolya\", \"Bill\"]\n",
    "\n",
    "for friend in friends:\n",
    "    print(\"Hi,\", friend)\n",
    "print(\"Hi, everyone!\")"
   ],
   "metadata": {
    "collapsed": false,
    "pycharm": {
     "name": "#%%\n",
     "is_executing": false
    }
   }
  },
  {
   "cell_type": "code",
   "execution_count": 2,
   "outputs": [
    {
     "name": "stdout",
     "text": [
      "[-2, 5, 16]\n"
     ],
     "output_type": "stream"
    }
   ],
   "source": [
    "list1 = [1, 2, 3]\n",
    "list2 = [-3, 3, 13]\n",
    "sum_list = []\n",
    "\n",
    "for i in range(len(list1)):\n",
    "    v = list1[i] + list2[i]\n",
    "    sum_list.append(v)\n",
    "print(sum_list)"
   ],
   "metadata": {
    "collapsed": false,
    "pycharm": {
     "name": "#%%\n",
     "is_executing": false
    }
   }
  },
  {
   "cell_type": "code",
   "execution_count": 6,
   "outputs": [
    {
     "name": "stdout",
     "text": [
      "равносторонний\n"
     ],
     "output_type": "stream"
    }
   ],
   "source": [
    "# triangles' sides\n",
    "a = float(input(\"Введите длину одной стороны треугольника\"))\n",
    "b = float(input(\"Введите длину другой стороны треугольника\"))\n",
    "c = float(input(\"Введите длину другой стороны треугольника\"))\n",
    "if a + b <= c or a + c <= b or b + c <= a:\n",
    "    print(\"это не треугольник\")\n",
    "elif a == b == c:\n",
    "    print(\"равносторонний\")\n",
    "elif a == b or b == c:\n",
    "    print(\"равнобедренный\")\n",
    "else:\n",
    "    print(\"разносторонний\")"
   ],
   "metadata": {
    "collapsed": false,
    "pycharm": {
     "name": "#%%\n",
     "is_executing": false
    }
   }
  },
  {
   "cell_type": "code",
   "execution_count": 62,
   "outputs": [
    {
     "name": "stdout",
     "text": [
      "[('fruit', 5), 2, 1]\n"
     ],
     "output_type": "stream"
    },
    {
     "data": {
      "text/plain": "' \\nеще можно развернуть в обычных циклах, но это будет так же как в 4 и 5 \\nпримерах только записано длиннее, т.к. по сути там идет перебор в цикле\\n'"
     },
     "metadata": {},
     "output_type": "execute_result",
     "execution_count": 62
    }
   ],
   "source": [
    "# reversing the list\n",
    "# 1)\n",
    "elements = [1, 2, ('fruit', 5)]\n",
    "elements.reverse()\n",
    "\n",
    "# I don't know whether we need to return the reversed list, so just in case:\n",
    "print(elements)\n",
    "\n",
    "# 2)\n",
    "elements = list(reversed(elements))\n",
    "\n",
    "# 3)\n",
    "elements = elements[::-1]\n",
    "\n",
    "# 4) \n",
    "elements = [i for i in reversed(elements)]\n",
    "\n",
    "# 5)\n",
    "elements = [elements[n] for n in range(len(elements)-1, -1, -1)]\n",
    "\n",
    "\"\"\" \n",
    "еще можно развернуть в обычных циклах, но это будет так же как в 4 и 5 \n",
    "примерах только записано длиннее, т.к. по сути там идет перебор в цикле\n",
    "\"\"\""
   ],
   "metadata": {
    "collapsed": false,
    "pycharm": {
     "name": "#%%\n",
     "is_executing": false
    }
   }
  },
  {
   "cell_type": "code",
   "execution_count": 7,
   "outputs": [
    {
     "name": "stdout",
     "text": [
      "74\n"
     ],
     "output_type": "stream"
    }
   ],
   "source": [
    "interesting_numbers = (3, 2, 5, 7, 14, 26, 32, 31, 37)\n",
    "even_nums = []\n",
    "for number in interesting_numbers:\n",
    "    if number % 2 == 0:\n",
    "        even_nums.append(number)\n",
    "the_sum = sum(even_nums)\n",
    "print(the_sum)"
   ],
   "metadata": {
    "collapsed": false,
    "pycharm": {
     "name": "#%%\n",
     "is_executing": false
    }
   }
  },
  {
   "cell_type": "code",
   "execution_count": null,
   "outputs": [],
   "source": [
    "\n"
   ],
   "metadata": {
    "collapsed": false,
    "pycharm": {
     "name": "#%%\n"
    }
   }
  }
 ],
 "metadata": {
  "kernelspec": {
   "display_name": "Python 3",
   "language": "python",
   "name": "python3"
  },
  "language_info": {
   "codemirror_mode": {
    "name": "ipython",
    "version": 2
   },
   "file_extension": ".py",
   "mimetype": "text/x-python",
   "name": "python",
   "nbconvert_exporter": "python",
   "pygments_lexer": "ipython2",
   "version": "2.7.6"
  },
  "pycharm": {
   "stem_cell": {
    "cell_type": "raw",
    "source": [],
    "metadata": {
     "collapsed": false
    }
   }
  }
 },
 "nbformat": 4,
 "nbformat_minor": 0
}