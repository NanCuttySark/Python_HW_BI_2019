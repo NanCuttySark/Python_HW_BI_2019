{
 "cells": [
  {
   "cell_type": "code",
   "execution_count": 1,
   "metadata": {
    "collapsed": true,
    "pycharm": {
     "is_executing": false
    }
   },
   "outputs": [
    {
     "data": {
      "text/plain": "[1, 1, 2, 3, 4, 5, 6]"
     },
     "metadata": {},
     "output_type": "execute_result",
     "execution_count": 1
    }
   ],
   "source": [
    "\"\"\"\n",
    "*Сделайте функцию, принимающую лист и возвращающую выпрямленный лист \n",
    "(исходный не должен был измениться):\n",
    "flatten([1, [1, 2], 3, [[4, 5, [6]]]])\n",
    "[1, 1, 2, 3, 4, 5, 6]\n",
    "\"\"\"\n",
    "test_lst = [1, [1, 2], 3, [[4, 5, [6]]]]\n",
    "\n",
    "def flatten(your_lst):\n",
    "    ret = []\n",
    "    if not isinstance(your_lst, (list, tuple)):\n",
    "        return [your_lst]\n",
    "    for i in your_lst:\n",
    "        if isinstance(i, (list, tuple)):\n",
    "            ret.extend(flatten(i))\n",
    "        else:\n",
    "            ret.append(i)\n",
    "    return ret\n",
    "\n",
    "flatten(test_lst)"
   ]
  },
  {
   "cell_type": "code",
   "execution_count": 2,
   "outputs": [
    {
     "data": {
      "text/plain": "21"
     },
     "metadata": {},
     "output_type": "execute_result",
     "execution_count": 2
    }
   ],
   "source": [
    "\"\"\"\n",
    "Напишите функцию, принимающую число и вычисляющую число Фибоначчи с номером поданного числа\n",
    "fibo(8)\n",
    "21\n",
    "\"\"\"\n",
    "def fibo(n):\n",
    "    if n == 0:\n",
    "        return 0\n",
    "    elif n in (1, 2):\n",
    "        return 1\n",
    "    return fibo(n - 1) + fibo(n - 2)\n",
    "  \n",
    "fibo(8)"
   ],
   "metadata": {
    "collapsed": false,
    "pycharm": {
     "name": "#%%\n",
     "is_executing": false
    }
   }
  },
  {
   "cell_type": "code",
   "execution_count": 3,
   "outputs": [
    {
     "data": {
      "text/plain": "100"
     },
     "metadata": {},
     "output_type": "execute_result",
     "execution_count": 3
    }
   ],
   "source": [
    "# Напишите функцию, возвращающую максимум, который есть в списке чисел\n",
    "def maximum(test_lst):\n",
    "    my_max = test_lst[0]\n",
    "    for num in test_lst:\n",
    "        if my_max < num:\n",
    "            my_max = num\n",
    "    return my_max\n",
    "\n",
    "maximum([100, 2, 3, 45, -2, 4])"
   ],
   "metadata": {
    "collapsed": false,
    "pycharm": {
     "name": "#%%\n",
     "is_executing": false
    }
   }
  },
  {
   "cell_type": "code",
   "execution_count": 4,
   "outputs": [
    {
     "data": {
      "text/plain": "[4, -2, 45, 3, 2, 100]"
     },
     "metadata": {},
     "output_type": "execute_result",
     "execution_count": 4
    }
   ],
   "source": [
    "# Функцию, возвращающую список в обратном порядке\n",
    "# не знаю, читирство ли это - юзать срез в таком задании\n",
    "def reverse(test_lst):\n",
    "    temp = []\n",
    "    for el in test_lst[::-1]:\n",
    "        temp.append(el)\n",
    "    return temp   \n",
    "\n",
    "reverse([100, 2, 3, 45, -2, 4])\n",
    "\n",
    "def reverse_2(test_lst):\n",
    "    temp = []\n",
    "    for el in test_lst:\n",
    "        temp.insert(0, el)\n",
    "    return temp\n",
    "\n",
    "reverse_2([100, 2, 3, 45, -2, 4])"
   ],
   "metadata": {
    "collapsed": false,
    "pycharm": {
     "name": "#%%\n",
     "is_executing": false
    }
   }
  },
  {
   "cell_type": "code",
   "execution_count": 5,
   "outputs": [
    {
     "data": {
      "text/plain": "25.333333333333332"
     },
     "metadata": {},
     "output_type": "execute_result",
     "execution_count": 5
    }
   ],
   "source": [
    "# Функцию, вычисляющую среднее списка\n",
    "\n",
    "def mean(test_lst):\n",
    "    my_sum = 0\n",
    "    i = 0\n",
    "    for num in test_lst:\n",
    "        my_sum = my_sum + num\n",
    "        i += 1\n",
    "    my_mean = my_sum / i\n",
    "    return my_mean\n",
    "\n",
    "mean([100, 2, 3, 45, -2, 4])"
   ],
   "metadata": {
    "collapsed": false,
    "pycharm": {
     "name": "#%%\n",
     "is_executing": false
    }
   }
  },
  {
   "cell_type": "code",
   "execution_count": 6,
   "outputs": [
    {
     "ename": "SyntaxError",
     "traceback": [
      "\u001b[0;36m  File \u001b[0;32m\"<ipython-input-6-2f81d5df9e28>\"\u001b[0;36m, line \u001b[0;32m16\u001b[0m\n\u001b[0;31m    3 45\u001b[0m\n\u001b[0m       ^\u001b[0m\n\u001b[0;31mSyntaxError\u001b[0m\u001b[0;31m:\u001b[0m invalid syntax\n"
     ],
     "evalue": "invalid syntax (<ipython-input-6-2f81d5df9e28>, line 16)",
     "output_type": "error"
    }
   ],
   "source": [
    "# Функцию, находящую самый частый элемент в списке, если их несколько, то все\n",
    "# TO DO: пофикситить, чтобы выводило все элементы\n",
    "\n",
    "def moda(test_lst):\n",
    "    temp_dict = dict()\n",
    "    for el in test_lst:\n",
    "        if el in temp_dict:\n",
    "            temp_dict[el] += 1\n",
    "        else:\n",
    "            temp_dict[el] = 1\n",
    "    max_val = maximum(list(temp_dict.values()))\n",
    "    for k, v in temp_dict.items():\n",
    "        if v == max_val:\n",
    "            return k\n",
    "# выводит пока только первое значение\n",
    "   \n",
    "moda([100, 3, 100, 2, 45, 45, 45, 3, 45, 3, 3, -2, 4])\n",
    "#3 45"
   ],
   "metadata": {
    "collapsed": false,
    "pycharm": {
     "name": "#%%\n",
     "is_executing": false
    }
   }
  },
  {
   "cell_type": "code",
   "execution_count": 7,
   "outputs": [
    {
     "data": {
      "text/plain": "36"
     },
     "metadata": {},
     "output_type": "execute_result",
     "execution_count": 7
    }
   ],
   "source": [
    "# Функцию, берущую указанный элемент из коллекции\n",
    "\n",
    "def get (col, el):\n",
    "    my_type = type(col)\n",
    "    if my_type == 'dict':\n",
    "        return col.get(el)\n",
    "    else:\n",
    "        return col[el]\n",
    "        \n",
    "get([1, 2, 15, 36], 2)\n",
    "get((1, 2, 15, 36), -1)\n",
    "get({1: 2, 'kva': 36}, 'kva')\n"
   ],
   "metadata": {
    "collapsed": false,
    "pycharm": {
     "name": "#%%\n",
     "is_executing": false
    }
   }
  },
  {
   "cell_type": "code",
   "execution_count": null,
   "outputs": [],
   "source": [
    "\n"
   ],
   "metadata": {
    "collapsed": false,
    "pycharm": {
     "name": "#%%\n"
    }
   }
  }
 ],
 "metadata": {
  "kernelspec": {
   "display_name": "Python 3",
   "language": "python",
   "name": "python3"
  },
  "language_info": {
   "codemirror_mode": {
    "name": "ipython",
    "version": 2
   },
   "file_extension": ".py",
   "mimetype": "text/x-python",
   "name": "python",
   "nbconvert_exporter": "python",
   "pygments_lexer": "ipython2",
   "version": "2.7.6"
  },
  "pycharm": {
   "stem_cell": {
    "cell_type": "raw",
    "source": [],
    "metadata": {
     "collapsed": false
    }
   }
  }
 },
 "nbformat": 4,
 "nbformat_minor": 0
}