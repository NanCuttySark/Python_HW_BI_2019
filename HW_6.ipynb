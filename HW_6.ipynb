{
 "cells": [
  {
   "cell_type": "code",
   "execution_count": 1,
   "metadata": {
    "collapsed": true,
    "pycharm": {
     "is_executing": false
    }
   },
   "outputs": [
    {
     "data": {
      "text/plain": "[1, 1, 2, 3, 4, 5, 6]"
     },
     "metadata": {},
     "output_type": "execute_result",
     "execution_count": 1
    }
   ],
   "source": [
    "\"\"\"\n",
    "*Сделайте функцию, принимающую лист и возвращающую выпрямленный лист \n",
    "(исходный не должен был измениться):\n",
    "flatten([1, [1, 2], 3, [[4, 5, [6]]]])\n",
    "[1, 1, 2, 3, 4, 5, 6]\n",
    "\"\"\"\n",
    "\n",
    "def flatten(your_lst):\n",
    "    ret = []\n",
    "    if not isinstance(your_lst, (list, tuple)):\n",
    "        return [your_lst]\n",
    "    for i in your_lst:\n",
    "        if isinstance(i, (list, tuple)):\n",
    "            ret.extend(flatten(i))\n",
    "        else:\n",
    "            ret.append(i)\n",
    "    return ret\n",
    "\n",
    "flatten([1, [1, 2], 3, [[4, 5, [6]]]])"
   ]
  },
  {
   "cell_type": "code",
   "execution_count": null,
   "outputs": [],
   "source": [
    "\"\"\"\n",
    "Напишите функцию, принимающую число и вычисляющую число Фибоначчи с номером поданного числа\n",
    "fibo(8)\n",
    "21\n",
    "\"\"\"\n"
   ],
   "metadata": {
    "collapsed": false,
    "pycharm": {
     "name": "#%%\n"
    }
   }
  }
 ],
 "metadata": {
  "kernelspec": {
   "display_name": "Python 3",
   "language": "python",
   "name": "python3"
  },
  "language_info": {
   "codemirror_mode": {
    "name": "ipython",
    "version": 2
   },
   "file_extension": ".py",
   "mimetype": "text/x-python",
   "name": "python",
   "nbconvert_exporter": "python",
   "pygments_lexer": "ipython2",
   "version": "2.7.6"
  },
  "pycharm": {
   "stem_cell": {
    "cell_type": "raw",
    "source": [],
    "metadata": {
     "collapsed": false
    }
   }
  }
 },
 "nbformat": 4,
 "nbformat_minor": 0
}