{
 "cells": [
  {
   "cell_type": "code",
   "execution_count": 13,
   "metadata": {
    "collapsed": true,
    "pycharm": {
     "is_executing": false
    }
   },
   "outputs": [
    {
     "data": {
      "text/plain": "False"
     },
     "metadata": {},
     "output_type": "execute_result",
     "execution_count": 13
    }
   ],
   "source": [
    "a = set()\n",
    "a.add(5)\n",
    "a.add('five')\n",
    "a.add('5')\n",
    "a.add((4, 'blue', False))\n",
    "\n",
    "# объединение\n",
    "sec_set = {'true', 5, 'five', 'dog'}\n",
    "sec_set.union(a)\n",
    "\n",
    "# пересечени\n",
    "sec_set.intersection(a)\n",
    "\n",
    "# вычетание\n",
    "sec_set.difference(a)\n",
    "\n",
    "#симметричное вычитание\n",
    "sec_set.symmetric_difference(a)\n",
    "\n",
    "#проверку на вхождение одного сэта в другой\n",
    "sec_set.issubset(a)"
   ]
  },
  {
   "cell_type": "code",
   "execution_count": 20,
   "outputs": [
    {
     "name": "stdout",
     "text": [
      "dog Fry\nbird Robin\ncat Tom\ndog Fry\nbird Robin\ncat Tom\ndog Fry\nbird Robin\ncat Tom\n"
     ],
     "output_type": "stream"
    }
   ],
   "source": [
    "\"\"\"\n",
    "Создайте пустой словарь, заполните его элементами, удалите часть элементов, \n",
    "обратитесь к нескольким элементам и сделайте с ними \n",
    "какое-нибудь действие (5 баллов)\n",
    "\"\"\"\n",
    "my_zoo = {}\n",
    "my_zoo = dict(cat = 'Tom', fish = 'Bob', bird = 'Robin')\n",
    "my_zoo['dog'] = 'Fry'\n",
    "my_zoo.get('dog')\n",
    "my_zoo.items()\n",
    "my_zoo.keys()\n",
    "my_zoo.pop('fish')\n",
    "\n",
    "\"\"\"\n",
    "Проитерируйтесь по заданному вами словарю и выведите его ключи и элементы \n",
    "(какой способ кажется вам лучшим?) (5 баллов * число способов)\n",
    "\"\"\"\n",
    "my_zoo.items() # это, наверное, нельзя назвать итерацией, но мы видим все ключи и значения\n",
    "\n",
    "for key in my_zoo:\n",
    "    print(key, my_zoo[key])\n",
    "    \n",
    "for key, value in my_zoo.items():\n",
    "    print( key, value) \n",
    "    \n",
    "for key in my_zoo.keys():\n",
    "    print (key, my_zoo[key]) \n",
    "   \n",
    "# вообще не вижу никакой разницы"
   ],
   "metadata": {
    "collapsed": false,
    "pycharm": {
     "name": "#%%\n",
     "is_executing": false
    }
   }
  },
  {
   "cell_type": "code",
   "execution_count": 23,
   "outputs": [
    {
     "data": {
      "text/plain": "(False,\n 51,\n False,\n 0,\n 'LKFLKAF KFDJKA FIAJF KDJFKAFIAJF IFIAJF AKSJFA OIJFKALD JF;',\n 'lkflkaf kfdjka fiajf kdjfkafiajf ifiajf aksjfa oijfkald jf;',\n 'Lkflkaf Kfdjka Fiajf Kdjfkafiajf Ifiajf Aksjfa Oijfkald Jf;')"
     },
     "metadata": {},
     "output_type": "execute_result",
     "execution_count": 23
    }
   ],
   "source": [
    "\"\"\"\n",
    "Создайте программу, принимающую на вход строку и выводящую, начинается ли строка с\n",
    "заглавной буквы, число букв в строке, заканчивается ли она на '!!',\n",
    "число встречаний строки 'fire', а также эту же строку, где все буквы большие,\n",
    "маленькие и вариант, в котором все слова начинаются с большой буквы (8 баллов)\n",
    "\"\"\"\n",
    "from collections import Counter\n",
    "import string\n",
    "\n",
    "# по идее мы же это делаем до того, как выучили функции, но что-то я без функции не вижу вариантов\n",
    "def letters_counter(something, valid_letters=string.ascii_letters):\n",
    "    count = Counter(something) # this counts all the letters, including invalid ones\n",
    "    return sum(count[letter] for letter in valid_letters)\n",
    "\n",
    "def main():\n",
    "    my_str = str(input())\n",
    "    return(my_str.istitle(),\n",
    "    letters_counter(my_str),\n",
    "    my_str.endswith('!!'),\n",
    "    my_str.count('fire'),\n",
    "    my_str.upper(),\n",
    "    my_str.lower(),\n",
    "    my_str.title())\n",
    "main()    "
   ],
   "metadata": {
    "collapsed": false,
    "pycharm": {
     "name": "#%%\n",
     "is_executing": false
    }
   }
  },
  {
   "cell_type": "code",
   "execution_count": 27,
   "outputs": [
    {
     "data": {
      "text/plain": "'Эта строка начинается с пробела. (Вы там упоролись?)'"
     },
     "metadata": {},
     "output_type": "execute_result",
     "execution_count": 27
    }
   ],
   "source": [
    "\"\"\"\n",
    "Напишите программу, принимающую на вход строку и выводящую с чего эта строка\n",
    "начинается (цифра, буква, пробел) (5 баллов)\n",
    "\"\"\"\n",
    "\n",
    "def what_is_first(any_str):\n",
    "    if any_str[0].isalpha() == True:\n",
    "        ans = \"Эта строка начинается с буквы.\"\n",
    "    elif any_str[0].isdigit() == True:\n",
    "        ans = \"Эта строка начинается с цифры.\"\n",
    "    elif any_str[0].isspace() == True:\n",
    "        ans = \"Эта строка начинается с пробела. (Вы там упоролись?)\"\n",
    "    return ans\n",
    "test_str = ' lkjalkjf dalkjfdid'\n",
    "what_is_first(test_str)"
   ],
   "metadata": {
    "collapsed": false,
    "pycharm": {
     "name": "#%%\n",
     "is_executing": false
    }
   }
  },
  {
   "cell_type": "code",
   "execution_count": 25,
   "outputs": [],
   "source": [
    "\"\"\"\n",
    "Сконвертируйте список, кортеж, сэт и строку друг в друга всеми возможными\n",
    "способами (строка -> лист, строка -> кортеж, ...) (6 баллов) ltsr'\n",
    "\"\"\"\n",
    "# чтобы не запутаться сгенерю все варианты:\n",
    "import itertools\n",
    "l = ['лист', 'кортеж', 'сэт', 'строка']\n",
    "task_list = list(itertools.permutations(l, 2))\n",
    "\n",
    "# строка -> лист\n",
    "test_str = str('Hello lkajf kajfua dfjkjfa, kjafkj')\n",
    "lst_1 = list(test_str)\n",
    "lst_2 = test_str.split(' ')\n",
    "\n",
    "# лист -> строка\n",
    "my_lst = ['f', 1, 34, 'Moon']\n",
    "str_1 = str(my_lst)\n",
    "\n",
    "# вообще зависит от того, что мы хотим получить на выходе\n",
    "str_2 = ''\n",
    "for i in my_lst:\n",
    "   str_2 +=str(i) # какая-то хрень, но список\n",
    "\n",
    "my_lst_no_ints = ['d', 'df', 'dfs']\n",
    "str_3 = ' '.join(my_lst_no_ints) # c интами такое не работает\n",
    "\n",
    "# Для интов нашла такое (никогда бы не додумалась сама):\n",
    "import functools\n",
    "str_4 = functools.reduce(lambda x,y:x+\" \"+y,list(map(str,my_lst)))\n",
    "\n",
    "# лист -> кортеж\n",
    "tpl = tuple(my_lst)\n",
    "tpl_2 = tuple(item for item in my_lst)\n",
    "tpl_3 = *my_lst, # а вот это выглядит стремно\n",
    "\n",
    "# кортеж -> лист\n",
    "my_lst_2 = list(tpl)\n",
    "\n",
    "# лист -> сет\n",
    "my_set = set(my_lst)\n",
    "\n",
    "# сет -> лист\n",
    "my_lst_1 = list(my_set)\n",
    "\n",
    "# кортеж -> сэт\n",
    "my_set_2 = set(tpl)\n",
    "\n",
    "# примерно где-то с этого момента жизнь потеряла смысл \n",
    "# сэт -> кортеж\n",
    "my_tpl_4 = tuple(my_set_2)\n",
    "type(my_tpl_4)\n",
    "\n",
    "# кортеж -> строка\n",
    "my_str_4 = functools.reduce(lambda x,y:x+\" \"+y,list(map(str,my_tpl_4)))\n",
    "\n",
    "# строка -> кортеж\n",
    "tpl_4 = tuple(my_str_4)\n",
    "\n",
    "# строка -> сэт\n",
    "my_set_3 = set(my_str_4) #в какой-то момент времени все пошло в разнос, но по заданию\n",
    "# не очень понятно, надо ли чтобы все сохраняло свой первозданный вид\n",
    "\n",
    "#сэт -> строка\n",
    "my_str_5 = str(my_set_2)\n",
    "\n",
    "# сэт -> кортеж\n",
    "my_tpl_5 = set(tpl_2)"
   ],
   "metadata": {
    "collapsed": false,
    "pycharm": {
     "name": "#%%\n",
     "is_executing": false
    }
   }
  },
  {
   "cell_type": "code",
   "execution_count": 26,
   "outputs": [
    {
     "name": "stdout",
     "text": [
      "ароза упал ан алапу азор а\n"
     ],
     "output_type": "stream"
    }
   ],
   "source": [
    "#Разверните строку всеми известными вам способами\n",
    "my_str = 'а роза упала на лапу азора'\n",
    "rev_str = my_str[::-1]\n",
    "\n",
    "rev_str_2 = ''.join(reversed(my_str))\n",
    "\n",
    "# ну это вообще извращение, раз есть срез\n",
    "def reversing(s):\n",
    "    chars = list(s)\n",
    "    for i in range(len(s) // 2):\n",
    "        tmp = chars[i]\n",
    "        chars[i] = chars[len(s) - i - 1]\n",
    "        chars[len(s) - i - 1] = tmp\n",
    "    return ''.join(chars)\n",
    "\n",
    "print(reversing(my_str))"
   ],
   "metadata": {
    "collapsed": false,
    "pycharm": {
     "name": "#%%\n",
     "is_executing": false
    }
   }
  },
  {
   "cell_type": "code",
   "execution_count": null,
   "outputs": [],
   "source": [
    "\n"
   ],
   "metadata": {
    "collapsed": false,
    "pycharm": {
     "name": "#%%\n"
    }
   }
  }
 ],
 "metadata": {
  "kernelspec": {
   "display_name": "Python 3",
   "language": "python",
   "name": "python3"
  },
  "language_info": {
   "codemirror_mode": {
    "name": "ipython",
    "version": 2
   },
   "file_extension": ".py",
   "mimetype": "text/x-python",
   "name": "python",
   "nbconvert_exporter": "python",
   "pygments_lexer": "ipython2",
   "version": "2.7.6"
  },
  "pycharm": {
   "stem_cell": {
    "cell_type": "raw",
    "source": [],
    "metadata": {
     "collapsed": false
    }
   }
  }
 },
 "nbformat": 4,
 "nbformat_minor": 0
}